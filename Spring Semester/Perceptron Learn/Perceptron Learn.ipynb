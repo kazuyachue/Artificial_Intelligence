{
 "cells": [
  {
   "cell_type": "code",
   "execution_count": 2,
   "metadata": {},
   "outputs": [],
   "source": [
    "import math, random\n",
    "import numpy as np\n",
    "from matplotlib import pyplot as plt"
   ]
  },
  {
   "cell_type": "code",
   "execution_count": 3,
   "metadata": {},
   "outputs": [
    {
     "data": {
      "text/plain": [
       "'00111'"
      ]
     },
     "execution_count": 3,
     "metadata": {},
     "output_type": "execute_result"
    }
   ],
   "source": [
    "def padbin(x, n):\n",
    "    return format(x, '0%sb' %n)\n",
    "\n",
    "\n",
    "padbin(7,5)"
   ]
  },
  {
   "cell_type": "code",
   "execution_count": 4,
   "metadata": {},
   "outputs": [],
   "source": [
    "def errf(ts, w):\n",
    "    error = 0\n",
    "    for x, y in ts:\n",
    "        x = np.array(x)\n",
    "        error += abs(A(w,x) - y)\n",
    "    return error"
   ]
  },
  {
   "cell_type": "code",
   "execution_count": 5,
   "metadata": {},
   "outputs": [],
   "source": [
    "def step(x):\n",
    "    return 1 if x > 0 else 0\n",
    "\n",
    "def A(w, x):\n",
    "    return step(np.dot(w, x))"
   ]
  },
  {
   "cell_type": "code",
   "execution_count": 6,
   "metadata": {},
   "outputs": [
    {
     "data": {
      "text/plain": [
       "(array([ 2.5,  2. ,  1. ]), 0)"
      ]
     },
     "execution_count": 6,
     "metadata": {},
     "output_type": "execute_result"
    }
   ],
   "source": [
    "def perceptron_learn(ts, max_error):\n",
    "    w = np.zeros(len(ts[0][0]))\n",
    "    w[0] = 0.5\n",
    "    error = 10000\n",
    "    maxepochs = 100\n",
    "    for epoch in range(maxepochs):\n",
    "        for x, y in ts:\n",
    "            x = np.array(x)\n",
    "            ystar = A(w, x)\n",
    "            y_error = y - ystar\n",
    "            w = w + (y_error * 1 * x) # 1 is the learning rate\n",
    "        error = errf(ts, w)\n",
    "        if error <= max_error:\n",
    "            break\n",
    "    return w, error   \n",
    "\n",
    "and_ts = [([-1, 0, 0], 0),\n",
    "      ([-1, 0, 1], 0),\n",
    "      ([-1, 1, 0], 0),\n",
    "      ([-1, 1, 1], 1)]\n",
    "perceptron_learn(and_ts, 0)"
   ]
  },
  {
   "cell_type": "code",
   "execution_count": 7,
   "metadata": {},
   "outputs": [
    {
     "data": {
      "text/plain": [
       "[([-1, 0, 0, 0], 0),\n",
       " ([-1, 0, 0, 1], 1),\n",
       " ([-1, 0, 1, 0], 0),\n",
       " ([-1, 0, 1, 1], 0),\n",
       " ([-1, 1, 0, 0], 0),\n",
       " ([-1, 1, 0, 1], 0),\n",
       " ([-1, 1, 1, 0], 0),\n",
       " ([-1, 1, 1, 1], 1)]"
      ]
     },
     "execution_count": 7,
     "metadata": {},
     "output_type": "execute_result"
    }
   ],
   "source": [
    "def make_ts(n, f):\n",
    "    ts = []\n",
    "    y = padbin(f, 2**n)\n",
    "    for i in range(2**n):\n",
    "        x = [int(j) for j in list(padbin(i, n))]\n",
    "        x = [-1] + x\n",
    "        ts.append((x, int(y[i])))\n",
    "    return ts\n",
    "\n",
    "make_ts(3, 65)"
   ]
  },
  {
   "cell_type": "code",
   "execution_count": 8,
   "metadata": {},
   "outputs": [
    {
     "name": "stdout",
     "output_type": "stream",
     "text": [
      "14\n",
      "104\n"
     ]
    }
   ],
   "source": [
    "def learn_all_functions(b):\n",
    "    learnable = 0\n",
    "    for i in range(2**2**b):\n",
    "        ts = make_ts(b, i)\n",
    "        w, error = perceptron_learn(ts, 0)\n",
    "        if error <= 0:\n",
    "            learnable += 1\n",
    "    return learnable\n",
    "\n",
    "print(learn_all_functions(2))\n",
    "print(learn_all_functions(3))\n",
    "#print(learn_all_functions(4))"
   ]
  },
  {
   "cell_type": "code",
   "execution_count": 9,
   "metadata": {},
   "outputs": [
    {
     "data": {
      "text/plain": [
       "[([-1, 0, 0, 0], 0),\n",
       " ([-1, 0, 0, 1], 0),\n",
       " ([-1, 0, 1, 0], 0),\n",
       " ([-1, 0, 1, 1], 1),\n",
       " ([-1, 1, 0, 0], 0),\n",
       " ([-1, 1, 0, 1], 1),\n",
       " ([-1, 1, 1, 0], 1),\n",
       " ([-1, 1, 1, 1], 1)]"
      ]
     },
     "execution_count": 9,
     "metadata": {},
     "output_type": "execute_result"
    }
   ],
   "source": [
    "def majority_set(b):\n",
    "    ts = []\n",
    "    for i in range(2**b):\n",
    "        x = [int(j) for j in list(padbin(i, b))]\n",
    "        y = 1 if x.count(1) > x.count(0) else 0\n",
    "        x = [-1] + x\n",
    "        ts.append((x, y))\n",
    "    return ts\n",
    "\n",
    "majority_set(3)"
   ]
  },
  {
   "cell_type": "code",
   "execution_count": 10,
   "metadata": {},
   "outputs": [
    {
     "data": {
      "image/png": "[encoded data removed]",
      "text/plain": [
       "<matplotlib.figure.Figure at 0x7fb4c5c39cc0>"
      ]
     },
     "metadata": {},
     "output_type": "display_data"
    }
   ],
   "source": [
    "def check_weight(w, ts):\n",
    "    n = 0\n",
    "    for x,y in ts:\n",
    "        x = np.array(x)\n",
    "        ystar = A(w, x)\n",
    "        if ystar == y:\n",
    "            n+=1\n",
    "    return n\n",
    "\n",
    "def majority(b):\n",
    "    xvalues = []\n",
    "    yvalues = []\n",
    "    total_set = majority_set(b)\n",
    "    \n",
    "    for i in range(5, 2**b - 50, 5):\n",
    "        random.shuffle(total_set)\n",
    "        test_set = total_set[:50]\n",
    "        training_set = total_set[50:50+i]\n",
    "        weight, error = perceptron_learn(training_set, 0)\n",
    "        num_correct = check_weight(weight, test_set)\n",
    "        \n",
    "        xvalues.append(len(training_set))\n",
    "        yvalues.append(num_correct / 50 * 100)\n",
    "    \n",
    "    plt.plot(xvalues, yvalues)\n",
    "    plt.xlabel(\"Size of Training Set\")\n",
    "    plt.ylabel(\"Percent Correct\")\n",
    "    \n",
    "majority(10)"
   ]
  },
  {
   "cell_type": "code",
   "execution_count": null,
   "metadata": {},
   "outputs": [],
   "source": []
  }
 ],
 "metadata": {
  "kernelspec": {
   "display_name": "Python 3",
   "language": "python",
   "name": "python3"
  },
  "language_info": {
   "codemirror_mode": {
    "name": "ipython",
    "version": 3
   },
   "file_extension": ".py",
   "mimetype": "text/x-python",
   "name": "python",
   "nbconvert_exporter": "python",
   "pygments_lexer": "ipython3",
   "version": "3.5.2"
  }
 },
 "nbformat": 4,
 "nbformat_minor": 2
}
