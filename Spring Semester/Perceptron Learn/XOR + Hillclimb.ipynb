{
 "cells": [
  {
   "cell_type": "code",
   "execution_count": 1,
   "metadata": {},
   "outputs": [],
   "source": [
    "import math, random\n",
    "import numpy as np\n",
    "from matplotlib import pyplot as plt"
   ]
  },
  {
   "cell_type": "code",
   "execution_count": 2,
   "metadata": {},
   "outputs": [],
   "source": [
    "def step(x):\n",
    "    return 1 if x > 0 else 0"
   ]
  },
  {
   "cell_type": "code",
   "execution_count": 3,
   "metadata": {},
   "outputs": [],
   "source": [
    "def A(w, x):\n",
    "    return step(np.dot(w, x))"
   ]
  },
  {
   "cell_type": "code",
   "execution_count": 4,
   "metadata": {},
   "outputs": [
    {
     "name": "stdout",
     "output_type": "stream",
     "text": [
      "0\n",
      "1\n",
      "1\n",
      "0\n"
     ]
    }
   ],
   "source": [
    "def xor(w, x):\n",
    "    x = np.array(x)\n",
    "    w1, w2, w3 = [np.array(w[i:i+3]) for i in (0, 3, 6)]\n",
    "    new_x = np.array([-1, A(w1, x), A(w2, x)])\n",
    "    return A(w3, new_x)\n",
    "    \n",
    "w = [-3, -2, -2, 1, 2, 2, 3, 2, 2]\n",
    "print(xor(w, [-1, 0, 0]))\n",
    "print(xor(w, [-1, 0, 1]))\n",
    "print(xor(w, [-1, 1, 0]))\n",
    "print(xor(w, [-1, 1, 1]))"
   ]
  },
  {
   "cell_type": "code",
   "execution_count": 5,
   "metadata": {},
   "outputs": [],
   "source": [
    "def A2(w, x):\n",
    "    return (1 / (1 + math.exp(-1 * np.dot(w,x))))"
   ]
  },
  {
   "cell_type": "code",
   "execution_count": 6,
   "metadata": {},
   "outputs": [],
   "source": [
    "def NN(w, x):\n",
    "    x = np.array(x)\n",
    "    w1, w2, w3 = [np.array(w[i:i+3]) for i in (0, 3, 6)]\n",
    "    new_x = np.array([-1, A2(w1, x), A2(w2, x)])\n",
    "    return A2(w3, new_x)"
   ]
  },
  {
   "cell_type": "code",
   "execution_count": 7,
   "metadata": {},
   "outputs": [],
   "source": [
    "def err(w, ts):\n",
    "    err = 0\n",
    "    for x,y in ts:\n",
    "        err += (NN(w, x) - y) ** 2\n",
    "    return err"
   ]
  },
  {
   "cell_type": "code",
   "execution_count": 8,
   "metadata": {},
   "outputs": [],
   "source": [
    "def hillclimb(ts):\n",
    "    maxError = 0.001\n",
    "    learning_rate = 0.1\n",
    "    w = np.zeros(9)\n",
    "    while err(w, ts) > maxError:\n",
    "        delta_w = learning_rate * np.random.uniform(-1,1,9)\n",
    "        if err(w + delta_w, ts) < err(w, ts):\n",
    "            w = w + delta_w\n",
    "    return w"
   ]
  },
  {
   "cell_type": "code",
   "execution_count": 9,
   "metadata": {},
   "outputs": [
    {
     "name": "stdout",
     "output_type": "stream",
     "text": [
      "[-2.71744885 -5.51748454  5.9615559   3.50363946 -6.96127267  6.69498217\n",
      " -4.59789708 -9.42762943  9.62077528]\n",
      "0\n",
      "1\n",
      "1\n",
      "0\n"
     ]
    }
   ],
   "source": [
    "ts = [([-1, 0, 0], 0),\n",
    "      ([-1, 0, 1], 1),\n",
    "      ([-1, 1, 0], 1),\n",
    "      ([-1, 1, 1], 0)]\n",
    "\n",
    "w = hillclimb(ts)     \n",
    "print(w)\n",
    "\n",
    "print(xor(w, [-1, 0, 0]))\n",
    "print(xor(w, [-1, 0, 1]))\n",
    "print(xor(w, [-1, 1, 0]))\n",
    "print(xor(w, [-1, 1, 1]))"
   ]
  },
  {
   "cell_type": "code",
   "execution_count": null,
   "metadata": {},
   "outputs": [],
   "source": []
  }
 ],
 "metadata": {
  "kernelspec": {
   "display_name": "Python 3",
   "language": "python",
   "name": "python3"
  },
  "language_info": {
   "codemirror_mode": {
    "name": "ipython",
    "version": 3
   },
   "file_extension": ".py",
   "mimetype": "text/x-python",
   "name": "python",
   "nbconvert_exporter": "python",
   "pygments_lexer": "ipython3",
   "version": "3.5.2"
  }
 },
 "nbformat": 4,
 "nbformat_minor": 2
}
