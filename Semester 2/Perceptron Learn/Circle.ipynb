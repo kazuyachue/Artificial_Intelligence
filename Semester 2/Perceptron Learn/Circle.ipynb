{
 "cells": [
  {
   "cell_type": "code",
   "execution_count": 12,
   "metadata": {},
   "outputs": [],
   "source": [
    "import math, random\n",
    "import numpy as np\n",
    "from matplotlib import pyplot as plt"
   ]
  },
  {
   "cell_type": "code",
   "execution_count": 13,
   "metadata": {},
   "outputs": [],
   "source": [
    "def A2(w, x):\n",
    "    return (1 / (1 + math.exp(-1 * np.dot(w,x))))"
   ]
  },
  {
   "cell_type": "code",
   "execution_count": 14,
   "metadata": {},
   "outputs": [],
   "source": [
    "def circle_ts():\n",
    "    ts = []\n",
    "    for x in np.arange(-1.5, 1.5, 0.03):\n",
    "        for y in np.arange(-1.5, 1.5, 0.03):\n",
    "            ts.append(([-1, x, y], 1 if x**2 + y**2 <= 1 else 0))\n",
    "    return ts"
   ]
  },
  {
   "cell_type": "code",
   "execution_count": 15,
   "metadata": {},
   "outputs": [],
   "source": [
    "def NN_circle(w, x):\n",
    "    x = np.array(x)\n",
    "    w1, w2, w3, w4, w5, w6, w7, w8 = [np.array(w[i:i+3]) for i in range(0, 24, 3)]\n",
    "    w9 = np.array(w[24:])\n",
    "    new_x = np.array([-1, round(A2(w1, x)), round(A2(w2, x)), round(A2(w3, x)), round(A2(w4, x)), \n",
    "                          round(A2(w5, x)), round(A2(w6, x)), round(A2(w7, x)), round(A2(w8, x))])\n",
    "    return round(A2(w9, new_x))"
   ]
  },
  {
   "cell_type": "code",
   "execution_count": 16,
   "metadata": {},
   "outputs": [],
   "source": [
    "def accuracy(w, ts):\n",
    "    num_correct = 0\n",
    "    for x, y in ts:\n",
    "        if NN_circle(w, x) == y:\n",
    "            num_correct += 1\n",
    "    return num_correct / len(ts)"
   ]
  },
  {
   "cell_type": "code",
   "execution_count": 17,
   "metadata": {},
   "outputs": [
    {
     "name": "stdout",
     "output_type": "stream",
     "text": [
      "0.9776\n"
     ]
    }
   ],
   "source": [
    "w = [-1.414, -1, -1, \n",
    "     -1.414, 1, 1, \n",
    "     -1.414, -1, 1, \n",
    "     -1.414, 1, -1, \n",
    "     -1, -1, 0,\n",
    "     -1, 1, 0, \n",
    "     -1, 0, -1,\n",
    "     -1, 0, 1,\n",
    "     7.5, 1, 1, 1, 1, 1, 1, 1, 1]\n",
    "\n",
    "ts = circle_ts()\n",
    "print(accuracy(w, ts))"
   ]
  },
  {
   "cell_type": "code",
   "execution_count": null,
   "metadata": {},
   "outputs": [],
   "source": []
  }
 ],
 "metadata": {
  "kernelspec": {
   "display_name": "Python 3",
   "language": "python",
   "name": "python3"
  },
  "language_info": {
   "codemirror_mode": {
    "name": "ipython",
    "version": 3
   },
   "file_extension": ".py",
   "mimetype": "text/x-python",
   "name": "python",
   "nbconvert_exporter": "python",
   "pygments_lexer": "ipython3",
   "version": "3.5.2"
  }
 },
 "nbformat": 4,
 "nbformat_minor": 2
}
