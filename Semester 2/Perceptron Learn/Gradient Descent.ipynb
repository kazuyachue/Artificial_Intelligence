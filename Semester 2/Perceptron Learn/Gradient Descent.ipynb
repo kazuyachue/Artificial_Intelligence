{
 "cells": [
  {
   "cell_type": "code",
   "execution_count": 1,
   "metadata": {},
   "outputs": [],
   "source": [
    "import math, random\n",
    "import numpy as np\n",
    "from matplotlib import pyplot as plt"
   ]
  },
  {
   "cell_type": "code",
   "execution_count": 2,
   "metadata": {},
   "outputs": [],
   "source": [
    "def calc(grad_f, v):\n",
    "    x, y = v\n",
    "    return np.array([eval(grad_f[0]), eval(grad_f[1])])"
   ]
  },
  {
   "cell_type": "code",
   "execution_count": 3,
   "metadata": {},
   "outputs": [],
   "source": [
    "def find_min(f, grad_f, target_err, l):\n",
    "    x = np.random.uniform(-1, 1, 2)\n",
    "    while(np.dot(calc(grad_f, x), calc(grad_f, x)) > target_err):\n",
    "        x = x + l* calc(grad_f, x)\n",
    "    return x"
   ]
  },
  {
   "cell_type": "code",
   "execution_count": 4,
   "metadata": {},
   "outputs": [
    {
     "data": {
      "text/plain": [
       "array([-1.56521739,  3.82608696])"
      ]
     },
     "execution_count": 4,
     "metadata": {},
     "output_type": "execute_result"
    }
   ],
   "source": [
    "f = '4*x**2 - 3*x*y + 2*y**2 + 24*x - 20*y'\n",
    "gradf = ['8*x-3*y+24', '-3*x+4*y-20']\n",
    "find_min(f, gradf, 0, -0.1)"
   ]
  },
  {
   "cell_type": "code",
   "execution_count": 5,
   "metadata": {},
   "outputs": [
    {
     "data": {
      "text/plain": [
       "array([ 0.99294725,  0.99647448])"
      ]
     },
     "execution_count": 5,
     "metadata": {},
     "output_type": "execute_result"
    }
   ],
   "source": [
    "f2 = '(1-y)**2 + 100*(x-y**2)**2'\n",
    "gradf2 = ['200*(x-y**2)', '400*y**3 - 400*x*y + 2*y - 2']\n",
    "find_min(f2, gradf2, 0.00001, -0.0001)"
   ]
  },
  {
   "cell_type": "code",
   "execution_count": 6,
   "metadata": {},
   "outputs": [],
   "source": [
    "def find_min_iterations(f, grad_f, target_err, l):\n",
    "    counter = 0\n",
    "    x = np.random.uniform(-1, 1, 2)\n",
    "    while(np.dot(calc(grad_f, x), calc(grad_f, x)) > target_err):\n",
    "        x = x + l* calc(grad_f, x)\n",
    "        counter += 1\n",
    "    return counter"
   ]
  },
  {
   "cell_type": "code",
   "execution_count": 9,
   "metadata": {},
   "outputs": [
    {
     "name": "stderr",
     "output_type": "stream",
     "text": [
      "/usr/local/lib/python3.5/dist-packages/ipykernel_launcher.py:1: RuntimeWarning: overflow encountered in double_scalars\n",
      "  \"\"\"Entry point for launching an IPython kernel.\n",
      "/usr/local/lib/python3.5/dist-packages/ipykernel_launcher.py:1: RuntimeWarning: invalid value encountered in double_scalars\n",
      "  \"\"\"Entry point for launching an IPython kernel.\n"
     ]
    },
    {
     "data": {
      "image/png": "[encoded data removed]",
      "text/plain": [
       "<matplotlib.figure.Figure at 0x7fc6276fe0b8>"
      ]
     },
     "metadata": {},
     "output_type": "display_data"
    }
   ],
   "source": [
    "def rate_convergence(f, gradf, n):\n",
    "    xvalues = []\n",
    "    yvalues = []\n",
    "    for i in range(n):\n",
    "        l = 10**-i\n",
    "        xvalues.append(l)\n",
    "        count = find_min_iterations(f, gradf, 0.00001, -l)\n",
    "        yvalues.append(count)\n",
    "    \n",
    "    plt.xlabel(\"Learning Rate\")\n",
    "    plt.ylabel(\"Iterations\")\n",
    "    plt.xscale('log')\n",
    "    plt.plot(xvalues, yvalues)\n",
    "\n",
    "rate_convergence(f2, gradf2, 5)"
   ]
  },
  {
   "cell_type": "code",
   "execution_count": null,
   "metadata": {},
   "outputs": [],
   "source": []
  }
 ],
 "metadata": {
  "kernelspec": {
   "display_name": "Python 3",
   "language": "python",
   "name": "python3"
  },
  "language_info": {
   "codemirror_mode": {
    "name": "ipython",
    "version": 3
   },
   "file_extension": ".py",
   "mimetype": "text/x-python",
   "name": "python",
   "nbconvert_exporter": "python",
   "pygments_lexer": "ipython3",
   "version": "3.5.2"
  }
 },
 "nbformat": 4,
 "nbformat_minor": 2
}
