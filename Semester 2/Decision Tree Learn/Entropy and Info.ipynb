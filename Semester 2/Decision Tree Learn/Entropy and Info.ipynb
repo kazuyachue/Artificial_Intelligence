{
 "cells": [
  {
   "cell_type": "code",
   "execution_count": 8,
   "metadata": {},
   "outputs": [
    {
     "name": "stdout",
     "output_type": "stream",
     "text": [
      "('Day', 0.0)\n",
      "('Outlook', 0.6935361388961918)\n",
      "('Humidity', 0.7884504573082896)\n",
      "('Wind', 0.8921589282623617)\n",
      "('Temp', 0.9110633930116763)\n"
     ]
    }
   ],
   "source": [
    "import math\n",
    "import pandas as pd\n",
    "\n",
    "def entropy(prob_list):\n",
    "    entropy = 0\n",
    "    for prob in prob_list:\n",
    "        if not prob == 0:\n",
    "            entropy += prob * math.log(prob, 2)\n",
    "    return -1 * entropy\n",
    "\n",
    "def info(dataframe, col, outcomes):\n",
    "    data = dataframe[col]\n",
    "    compare = dataframe[outcomes]\n",
    "    prob_lists = {} #dict.fromkeys(set(data), list([0,0])) #[Yes, No]\n",
    "    for index in range(len(data)):\n",
    "        value = data[index]\n",
    "        if value not in prob_lists.keys():\n",
    "            prob_lists[value] = [0,0]\n",
    "        if compare[index] == \"Yes\":\n",
    "            prob_lists[value][0] += 1.0\n",
    "        else:\n",
    "            prob_lists[value][1] += 1.0\n",
    "            \n",
    "    info = 0\n",
    "    for prob_list in prob_lists.values():\n",
    "        count = prob_list[0] + prob_list[1]\n",
    "        prob_list[0] /= count\n",
    "        prob_list[1] /= count\n",
    "        info += count / len(data) *entropy(prob_list)\n",
    "    return info\n",
    "\n",
    "dataframe = pd.read_csv(\"play_tennis.csv\")\n",
    "info_list = []\n",
    "for col in dataframe.columns:\n",
    "    if not col == \"Play?\":\n",
    "        info_list.append((col, info(dataframe, col, \"Play?\")))\n",
    "info_list.sort(key=lambda x:x[1])\n",
    "for tup in info_list:\n",
    "    print(tup)"
   ]
  }
 ],
 "metadata": {
  "kernelspec": {
   "display_name": "Python 3",
   "language": "python",
   "name": "python3"
  },
  "language_info": {
   "codemirror_mode": {
    "name": "ipython",
    "version": 3
   },
   "file_extension": ".py",
   "mimetype": "text/x-python",
   "name": "python",
   "nbconvert_exporter": "python",
   "pygments_lexer": "ipython3",
   "version": "3.5.2"
  }
 },
 "nbformat": 4,
 "nbformat_minor": 2
}
