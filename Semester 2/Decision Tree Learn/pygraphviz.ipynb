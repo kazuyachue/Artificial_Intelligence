{
 "cells": [
  {
   "cell_type": "code",
   "execution_count": 1,
   "metadata": {},
   "outputs": [],
   "source": [
    "import pygraphviz as pgv"
   ]
  },
  {
   "cell_type": "code",
   "execution_count": 9,
   "metadata": {
    "scrolled": true
   },
   "outputs": [
    {
     "data": {
      "text/plain": [
       "<AGraph <Swig Object of type 'Agraph_t *' at 0x7fd744770510>>"
      ]
     },
     "execution_count": 9,
     "metadata": {},
     "output_type": "execute_result"
    }
   ],
   "source": [
    "G = pgv.AGraph(directed=True)\n",
    "G.add_node(1, label=\"Age?\")\n",
    "G.add_node(2, label=\"Accept\")\n",
    "G.add_node(3, label=\"Reject\")\n",
    "G.add_edge(1, 2, label=\">25\")\n",
    "G.add_edge(1, 3, label=\"<=25\")\n",
    "G.layout(prog=\"dot\")\n",
    "G.draw(\"minimal-tree.png\")"
   ]
  },
  {
   "cell_type": "code",
   "execution_count": 2,
   "metadata": {},
   "outputs": [],
   "source": [
    "import pygraphviz as pgv\n",
    "\n",
    "G2 = pgv.AGraph(directed = True)\n",
    "G2.add_node(1, label=\"Patrons?\")\n",
    "G2.add_node(2, label=\"F\")\n",
    "G2.add_node(3, label=\"T\")\n",
    "G2.add_node(4, label=\"Hungry?\")\n",
    "G2.add_node(5, label=\"Type?\")\n",
    "G2.add_node(6, label=\"F\")\n",
    "G2.add_node(7, label=\"T\")\n",
    "G2.add_node(8, label=\"F\")\n",
    "G2.add_node(9, label=\"Fri/Sat?\")\n",
    "G2.add_node(10, label=\"T\")\n",
    "G2.add_node(11, label=\"F\")\n",
    "G2.add_node(12, label=\"T\")\n",
    "\n",
    "G2.add_edge(1, 2, label=\"None\")\n",
    "G2.add_edge(1, 3, label=\"Some\")\n",
    "G2.add_edge(1, 4, label=\"Full\")\n",
    "G2.add_edge(4, 5, label=\"Yes\")\n",
    "G2.add_edge(4, 6, label=\"No\")\n",
    "G2.add_edge(5, 7, label=\"French\")\n",
    "G2.add_edge(5, 8, label=\"Italian\")\n",
    "G2.add_edge(5, 9, label=\"Thai\")\n",
    "G2.add_edge(5, 10, label=\"Burger\")\n",
    "G2.add_edge(9, 11, label=\"No\")\n",
    "G2.add_edge(9, 12, label=\"Yes\")\n",
    "\n",
    "G2.layout(prog=\"dot\")\n",
    "G2.draw(\"restaurant-tree.png\")"
   ]
  },
  {
   "cell_type": "code",
   "execution_count": null,
   "metadata": {},
   "outputs": [],
   "source": []
  }
 ],
 "metadata": {
  "kernelspec": {
   "display_name": "Python 3",
   "language": "python",
   "name": "python3"
  },
  "language_info": {
   "codemirror_mode": {
    "name": "ipython",
    "version": 3
   },
   "file_extension": ".py",
   "mimetype": "text/x-python",
   "name": "python",
   "nbconvert_exporter": "python",
   "pygments_lexer": "ipython3",
   "version": "3.5.2"
  }
 },
 "nbformat": 4,
 "nbformat_minor": 2
}
